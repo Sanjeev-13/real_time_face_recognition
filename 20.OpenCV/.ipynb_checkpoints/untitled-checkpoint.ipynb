{
 "cells": [
  {
   "cell_type": "code",
   "execution_count": 1,
   "id": "93d19d6d",
   "metadata": {
    "scrolled": true
   },
   "outputs": [],
   "source": [
    "import cv2"
   ]
  },
  {
   "cell_type": "code",
   "execution_count": 2,
   "id": "1b4c35cf",
   "metadata": {
    "scrolled": true
   },
   "outputs": [],
   "source": [
    "import numpy as np"
   ]
  },
  {
   "cell_type": "code",
   "execution_count": 3,
   "id": "4734c148",
   "metadata": {
    "scrolled": true
   },
   "outputs": [],
   "source": [
    "import os"
   ]
  },
  {
   "cell_type": "code",
   "execution_count": 7,
   "id": "19de8cff",
   "metadata": {
    "scrolled": true
   },
   "outputs": [],
   "source": [
    "cap = cv2.VideoCapture(0)\n",
    "\n",
    "while True:\n",
    "    ret, frame = cap.read()\n",
    "    \n",
    "    if ret == False:\n",
    "        continue\n",
    "        \n",
    "    gray_frame = cv2.cvtColor(frame, cv2.COLOR_BGR2GRAY)\n",
    "    \n",
    "    cv2.imshow(\"frame\", frame)\n",
    "    cv2.imshow(\"gray frame\", gray_frame)\n",
    "    \n",
    "    key_pressed = cv2.waitKey(1) & 0xFF\n",
    "    \n",
    "    if key_pressed == ord('q'):\n",
    "        break\n",
    "    \n",
    "cap.release()\n",
    "cv2.destroyAllWindows()"
   ]
  },
  {
   "cell_type": "code",
   "execution_count": null,
   "id": "893bcdbc",
   "metadata": {
    "scrolled": false
   },
   "outputs": [],
   "source": [
    "cap = cv2.VideoCapture(0)\n",
    "\n",
    "face_cascade = cv2.CascadeClassifier(\"haarcascade_frontalface_alt.xml\")\n",
    "\n",
    "while True:\n",
    "    ret, frame = cap.read()\n",
    "    \n",
    "    if ret == False:\n",
    "        continue\n",
    "        \n",
    "    gray_frame = cv2.cvtColor(frame, cv2.COLOR_BGR2GRAY)\n",
    "    \n",
    "    faces = face_cascade.detectMultiScale(frame, 1.3, 4)\n",
    "\n",
    "    for (x, y, w, h) in faces:\n",
    "        cv2.rectangle(frame, (x, y), (x + w, y + h), (0, 255, 0), 2)\n",
    "#         cv2.rectangle(gray_frame, (x, y), (x + w, y + h), (0, 0, 255), 2)\n",
    "        \n",
    "    cv2.imshow(\"frame\", frame)\n",
    "#     cv2.imshow(\"gray frame\", gray_frame)  \n",
    "    \n",
    "    key_pressed = cv2.waitKey(1) & 0xFF\n",
    "    \n",
    "    if key_pressed == ord('q'):\n",
    "        break\n",
    "        \n",
    "cap.release()\n",
    "cv2.destroyAllWindows()"
   ]
  },
  {
   "cell_type": "code",
   "execution_count": 8,
   "id": "bd9d797e",
   "metadata": {
    "scrolled": false
   },
   "outputs": [
    {
     "name": "stdout",
     "output_type": "stream",
     "text": [
      "Enter name: sanju\n",
      "1\n",
      "2\n",
      "3\n",
      "4\n",
      "5\n",
      "6\n",
      "7\n",
      "8\n",
      "9\n",
      "10\n",
      "11\n",
      "12\n",
      "13\n",
      "14\n",
      "15\n",
      "16\n",
      "17\n",
      "18\n",
      "19\n",
      "20\n",
      "21\n",
      "22\n",
      "23\n",
      "24\n",
      "25\n",
      "26\n",
      "27\n",
      "28\n",
      "29\n",
      "Data saved successfully at ./sanju.npy\n"
     ]
    }
   ],
   "source": [
    "cap = cv2.VideoCapture(0)\n",
    "\n",
    "face_cascade = cv2.CascadeClassifier(\"haarcascade_frontalface_alt.xml\")\n",
    "\n",
    "dataset_path = './'\n",
    "face_data = []\n",
    "skip = 0\n",
    "face_section = 0\n",
    "\n",
    "file_name = input(\"Enter name: \")\n",
    "\n",
    "while True:\n",
    "    ret, frame = cap.read()\n",
    "    \n",
    "    if ret == False:\n",
    "        continue\n",
    "        \n",
    "#     gray_frame = cv2.cvtColor(frame, cv2.COLOR_BGR2GRAY)\n",
    "    \n",
    "    faces = face_cascade.detectMultiScale(frame, 1.3, 5)\n",
    "    faces = sorted(faces, key = lambda f : f[2] * f[3])\n",
    "    \n",
    "    for face in faces[-1:]:\n",
    "        x, y, w, h = face\n",
    "        cv2.rectangle(frame, (x, y), (x + w, y + h), (0, 255, 0), 2)\n",
    "#         cv2.rectangle(gray_frame, (x, y), (x + w, y + h), (0, 255, 0), 2)\n",
    "\n",
    "        offset = 10\n",
    "        face_section = frame[y - offset : y + h + offset,\n",
    "                             x - offset : x + w + offset]\n",
    "        face_section = cv2.resize(face_section, (100, 100))\n",
    "        \n",
    "        skip += 1\n",
    "        if skip % 10 == 0:\n",
    "            face_data.append(face_section)\n",
    "            print(len(face_data))\n",
    "        \n",
    "    cv2.imshow(\"frame\", frame)\n",
    "        \n",
    "    key_pressed = cv2.waitKey(1) & 0xFF\n",
    "    if key_pressed == ord('q'):\n",
    "        break\n",
    "        \n",
    "cap.release()\n",
    "cv2.destroyAllWindows()\n",
    "\n",
    "face_data = np.array(face_data)\n",
    "face_data = face_data.reshape((face_data.shape[0], -1))\n",
    "\n",
    "np.save(dataset_path + file_name + '.npy', face_data)\n",
    "\n",
    "print(\"Data saved successfully at\", dataset_path + file_name + '.npy')"
   ]
  },
  {
   "cell_type": "code",
   "execution_count": null,
   "id": "6dec4274",
   "metadata": {},
   "outputs": [],
   "source": [
    "def distance(v1, v2):\n",
    "    return np.sqrt(((v1 - v2)**2).sum())"
   ]
  },
  {
   "cell_type": "code",
   "execution_count": null,
   "id": "8710b54d",
   "metadata": {},
   "outputs": [],
   "source": [
    "def KNN(train, test, k = 5):\n",
    "    dist = []\n",
    "    \n",
    "    for i in range(train.shape[0]):\n",
    "        ix = train[i, : -1]\n",
    "        iy = train[i, -1]\n",
    "        \n",
    "        d = distance(ix, test)\n",
    "        dist.append([d, iy])\n",
    "        \n",
    "    dist = sorted(dist, key = lambda x : x[0])\n",
    "    dist = dist[ : k]\n",
    "\n",
    "    dist = np.array(dist)\n",
    "    labels = np.unique(dist[ : 1], return_counts = True)\n",
    "\n",
    "    index = labels[1].argmax()\n",
    "    pred = labels[0][index]\n",
    "\n",
    "    return pred"
   ]
  },
  {
   "cell_type": "code",
   "execution_count": null,
   "id": "84dada12",
   "metadata": {},
   "outputs": [],
   "source": [
    "dataset_path = './'\n",
    "\n",
    "face_data = []\n",
    "labels = []\n",
    "\n",
    "class_id = 0;\n",
    "name = {}\n",
    "\n",
    "for fx in os.listdir(dataset_path):\n",
    "    if fx.endswith('.npy'):\n",
    "        name[class_id] = fx[ : - 4]\n",
    "        \n",
    "        print(\"loaded\", fx)\n",
    "        \n",
    "        data_item = np.load(dataset_path + fx)\n",
    "        face_data.append(data_item)\n",
    "        \n",
    "        target = np.ones((data_item.shape[0], )) * class_id\n",
    "        labels.append(target)\n",
    "        \n",
    "        class_id += 1\n",
    "        \n",
    "face_dataset = np.concatenate(face_data, axis = 0)\n",
    "face_labels = np.concatenate(labels, axis = 0)\n",
    "face_labels = face_labels.reshape((-1, 1))\n",
    "        \n",
    "print(face_dataset.shape)\n",
    "print(face_labels.shape)\n",
    "\n",
    "train_set = np.concatenate((face_dataset, face_labels), axis = 1)\n",
    "print(train_set.shape)"
   ]
  },
  {
   "cell_type": "code",
   "execution_count": null,
   "id": "da1b87b9",
   "metadata": {},
   "outputs": [],
   "source": [
    "cap = cv2.VideoCapture(0)\n",
    "\n",
    "face_cascade = cv2.CascadeClassifier(\"haarcascade_frontalface_alt.xml\")\n",
    "\n",
    "while True:\n",
    "    ret, frame = cap.read()\n",
    "    \n",
    "    if ret == False:\n",
    "        continue\n",
    "        \n",
    "#     gray_frame = cv2.cvtColor(frame, cv2.COLOR_BGR2GRAY)\n",
    "    \n",
    "    faces = face_cascade.detectMultiScale(frame, 1.3, 5)\n",
    "    faces = sorted(faces, key = lambda f : f[2] * f[3])\n",
    "    \n",
    "    for face in faces[-1:]:\n",
    "        x, y, w, h = face\n",
    "\n",
    "        offset = 10\n",
    "        face_section = frame[y - offset : y + h + offset, x - offset : x + w + offset]\n",
    "        face_section = cv2.resize(face_section, (100, 100))\n",
    "        \n",
    "        out = KNN(train_set, face_section.flatten())\n",
    "        \n",
    "        pred_name = name[int(out)]\n",
    "        \n",
    "        cv2.putText(frame, pred_name, (x, y - 10), cv2.FONT_ITALIC, 1, \n",
    "                    (255, 0, 0),2)\n",
    "        cv2.rectangle(frame, (x, y), (x + w, y + h), (0, 255, 0), 2)\n",
    "#         cv2.rectangle(gray_frame, (x, y), (x + w, y + h), (0, 255, 0), 2)\n",
    "    \n",
    "        \n",
    "    cv2.imshow(\"frame\", frame)\n",
    "        \n",
    "    key_pressed = cv2.waitKey(1) & 0xFF\n",
    "    if key_pressed == ord('q'):\n",
    "        break\n",
    "        \n",
    "cap.release()\n",
    "cv2.destroyAllWindows()"
   ]
  },
  {
   "cell_type": "code",
   "execution_count": null,
   "id": "3297604e",
   "metadata": {},
   "outputs": [],
   "source": []
  },
  {
   "cell_type": "code",
   "execution_count": null,
   "id": "f960dac4",
   "metadata": {},
   "outputs": [],
   "source": []
  },
  {
   "cell_type": "code",
   "execution_count": null,
   "id": "2242d361",
   "metadata": {},
   "outputs": [],
   "source": []
  },
  {
   "cell_type": "code",
   "execution_count": null,
   "id": "51778174",
   "metadata": {},
   "outputs": [],
   "source": []
  },
  {
   "cell_type": "code",
   "execution_count": null,
   "id": "476aba61",
   "metadata": {},
   "outputs": [],
   "source": []
  }
 ],
 "metadata": {
  "kernelspec": {
   "display_name": "Python 3 (ipykernel)",
   "language": "python",
   "name": "python3"
  },
  "language_info": {
   "codemirror_mode": {
    "name": "ipython",
    "version": 3
   },
   "file_extension": ".py",
   "mimetype": "text/x-python",
   "name": "python",
   "nbconvert_exporter": "python",
   "pygments_lexer": "ipython3",
   "version": "3.11.1"
  }
 },
 "nbformat": 4,
 "nbformat_minor": 5
}
